{
 "cells": [
  {
   "cell_type": "code",
   "execution_count": null,
   "id": "5770e807-7477-4411-aac9-e9cd49e1ef4f",
   "metadata": {},
   "outputs": [],
   "source": [
    "import pandas as pd\n",
    "from sentence_transformers import SentenceTransformer\n",
    "from sklearn.metrics.pairwise import cosine_similarity\n",
    "from langchain.text_splitter import RecursiveCharacterTextSplitter\n",
    "import streamlit as st\n",
    "import numpy as np\n"
   ]
  },
  {
   "cell_type": "code",
   "execution_count": null,
   "id": "82a98814-3718-4a75-91b7-1e7ed8851d0f",
   "metadata": {},
   "outputs": [],
   "source": [
    "# URL to CSV file\n",
    "url = 'https://raw.githubusercontent.com/datum-oracle/netflix-movie-titles/main/titles.csv'\n",
    "\n",
    "# Read the CSV file directly from the URL\n",
    "df = pd.read_csv(url)\n",
    "\n",
    "# Clean the DataFrame\n",
    "df['description'].fillna('No description available', inplace=True)\n",
    "df['age_certification'].fillna('Not Rated', inplace=True)\n",
    "df['seasons'].fillna(0, inplace=True)\n",
    "df['seasons'] = df['seasons'].astype(int)\n",
    "df['imdb_id'].fillna('Unknown', inplace=True)\n",
    "df['imdb_score'].fillna(df['imdb_score'].mean(), inplace=True)\n",
    "df['imdb_votes'].fillna(df['imdb_votes'].median(), inplace=True)\n",
    "df['tmdb_popularity'].fillna(df['tmdb_popularity'].mean(), inplace=True)\n",
    "df['tmdb_score'].fillna(df['tmdb_score'].mean(), inplace=True)\n",
    "df['release_year'] = df['release_year'].astype(int)\n",
    "df['runtime'] = df['runtime'].astype(int)\n",
    "df['imdb_score'] = df['imdb_score'].astype(float)\n",
    "df['imdb_votes'] = df['imdb_votes'].astype(int)\n",
    "df['tmdb_popularity'] = df['tmdb_popularity'].astype(float)\n",
    "df['tmdb_score'] = df['tmdb_score'].astype(float)\n",
    "\n",
    "# Create a combined features column\n",
    "df['combined_features'] = (\n",
    "    df['title'].astype(str) + \" \" +\n",
    "    df['type'].astype(str) + \" \" +\n",
    "    df['description'].astype(str) + \" \" +\n",
    "    df['genres'].astype(str) + \" \" +\n",
    "    df['production_countries'].astype(str) + \" \" +\n",
    "    df['age_certification'].astype(str) + \" \" +\n",
    "    df['release_year'].astype(str)\n",
    ")\n"
   ]
  },
  {
   "cell_type": "code",
   "execution_count": null,
   "id": "bf22a771-0c5e-4c9f-9dc2-2b9fd3802e30",
   "metadata": {},
   "outputs": [],
   "source": [
    "# Function to split documents into chunks\n",
    "def chunk_data(doc, chunk_size=800, chunk_overlap=50):\n",
    "    text_splitter = RecursiveCharacterTextSplitter(chunk_size=chunk_size, chunk_overlap=chunk_overlap)\n",
    "    chunks = text_splitter.split_text(doc)\n",
    "    return chunks\n",
    "\n",
    "# Apply the splitter to the combined features\n",
    "df['chunks'] = df['combined_features'].apply(chunk_data)\n"
   ]
  },
  {
   "cell_type": "code",
   "execution_count": null,
   "id": "bb1c6f30-0dd5-4768-9aaf-3dc90968efa7",
   "metadata": {},
   "outputs": [],
   "source": [
    "# Load the Hugging Face model\n",
    "model = SentenceTransformer('sentence-transformers/all-MiniLM-L6-v2')\n",
    "\n",
    "# Generate embeddings for each chunk\n",
    "df['chunk_embeddings'] = df['chunks'].apply(lambda chunks: [model.encode(chunk) for chunk in chunks])\n"
   ]
  },
  {
   "cell_type": "code",
   "execution_count": null,
   "id": "05cfefbe-16bc-4561-95bd-09b178f8c8c0",
   "metadata": {},
   "outputs": [],
   "source": [
    "# Function to search movies based on user query\n",
    "def search_movies(query, top_k=5):\n",
    "    # Generate the embedding for the user's query\n",
    "    query_embedding = model.encode(query).reshape(1, -1)\n",
    "    \n",
    "    # Calculate cosine similarity between query embedding and each chunk's embeddings\n",
    "    similarities = []\n",
    "    for idx, chunk_embeds in df['chunk_embeddings'].items():\n",
    "        for chunk_embed in chunk_embeds:\n",
    "            sim = cosine_similarity(query_embedding, np.array(chunk_embed).reshape(1, -1)).flatten()[0]\n",
    "            similarities.append((sim, idx))\n",
    "\n",
    "    # Sort by similarity\n",
    "    similarities = sorted(similarities, key=lambda x: x[0], reverse=True)\n",
    "    \n",
    "    # Get the top_k most similar movies\n",
    "    top_k_indices = list(dict(similarities[:top_k]).values())\n",
    "    results = df.iloc[top_k_indices]\n",
    "    return results\n"
   ]
  },
  {
   "cell_type": "code",
   "execution_count": null,
   "id": "8eca6640-bded-444b-9505-3e79873a682b",
   "metadata": {},
   "outputs": [],
   "source": [
    "# Streamlit UI\n",
    "st.title('Movie Recommendation Engine')\n",
    "\n",
    "# User input\n",
    "user_query = st.text_input('Enter movie description, genre, etc.', '')\n",
    "\n",
    "if user_query:\n",
    "    # Search movies\n",
    "    results = search_movies(user_query)\n",
    "\n",
    "    # Display results\n",
    "    for _, row in results.iterrows():\n",
    "        st.write(f\"**Title:** {row['title']}\")\n",
    "        st.write(f\"**Description:** {row['description']}\")\n",
    "        st.write(f\"**Genres:** {row['genres']}\")\n",
    "        st.write(f\"**IMDB Score:** {row['imdb_score']}\")\n",
    "        st.write(f\"**Release Year:** {row['release_year']}\")\n",
    "        st.write(\"---\")\n",
    "\n"
   ]
  }
 ],
 "metadata": {
  "kernelspec": {
   "display_name": "Python 3 (ipykernel)",
   "language": "python",
   "name": "python3"
  },
  "language_info": {
   "codemirror_mode": {
    "name": "ipython",
    "version": 3
   },
   "file_extension": ".py",
   "mimetype": "text/x-python",
   "name": "python",
   "nbconvert_exporter": "python",
   "pygments_lexer": "ipython3",
   "version": "3.11.5"
  }
 },
 "nbformat": 4,
 "nbformat_minor": 5
}
